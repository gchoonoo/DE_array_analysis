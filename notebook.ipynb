{
 "cells": [
  {
   "cell_type": "markdown",
   "metadata": {},
   "source": [
    "# Systems Immunogenetics Project\n",
    "\n",
    "## Expression Array DE and Pathway Analysis Workflow\n",
    "\n",
    "### McWeeney Lab, Oregon Health & Science University\n",
    "\n",
    "** Authors: Gabrielle Choonoo (choonoo@ohsu.edu) and Michael Mooney (mooneymi@ohsu.edu) **\n",
    "\n",
    "## Introduction\n",
    "\n",
    "This is the step-by-step workflow for the DE and pathway analysis of pre-processed expression from the Bat Array data, including plots for DE genes and GO pathways.\n",
    "\n",
    "Required Files:\n",
    "* Raw expression data. This can the `raw.exprs` object created in the array QA/QC workflow (SIG_Array_QA_QC_Workflow.ipynb): [[Download here]](https://raw.githubusercontent.com/mooneymi/systems_immunogenetics/master/SIG_Array_QA_QC_Workflow.ipynb)\n",
    "* This notebook (notebook.ipynb): [[Download here]](https://raw.githubusercontent.com/gchoonoo/DE_array_analysis/master/notebook.ipynb)\n",
    "* The R script `functions.R`: [[Download here]](https://raw.githubusercontent.com/gchoonoo/DE_array_analysis/master/functions.R)\n",
    "\n",
    "Required R packages:\n",
    "- `gdata`: \n",
    "- `plyr`: \n",
    "- `oligo`:\n",
    "- `pd.mogene.2.1.st`:\n",
    "- `mogene21sttranscriptcluster.db`:\n",
    "- `limma`: [https://bioconductor.org/packages/release/bioc/html/limma.html](https://bioconductor.org/packages/release/bioc/html/limma.html)\n",
    "- `Heatplus`:\n",
    "- `reshape2`:\n",
    "- `ReportingTools`:\n",
    "- `hwriter`:\n",
    "- `ggplot2`:\n",
    "- `clusterProfiler`:\n",
    "- `XML`:\n",
    "- `GOstats`:\n",
    "- `genefilter`:\n",
    "\n",
    "**Note: this notebook can also be downloaded as an R script (only the code blocks seen below will be included): [[Download R script here]](https://raw.githubusercontent.com/gchoonoo/DE_array_analysis/master/notebook.r)\n",
    "\n",
    "** All code is available on GitHub: [https://github.com/gchoonoo/DE_array_analysis](https://github.com/gchoonoo/DE_array_analysis) **\n",
    "\n"
   ]
  },
  {
   "cell_type": "markdown",
   "metadata": {
    "collapsed": true
   },
   "source": [
    "# Step 1. Load Necessary R Functions and Libraries"
   ]
  },
  {
   "cell_type": "code",
   "execution_count": 19,
   "metadata": {
    "collapsed": false,
    "scrolled": true
   },
   "outputs": [],
   "source": [
    "## Load libraries and functions for DE and pathway analysis\n",
    "source('functions.R')"
   ]
  },
  {
   "cell_type": "markdown",
   "metadata": {
    "collapsed": false
   },
   "source": [
    "# Step 2: Load Raw Expression Data"
   ]
  },
  {
   "cell_type": "code",
   "execution_count": 6,
   "metadata": {
    "collapsed": false
   },
   "outputs": [],
   "source": [
    "## Set data directory and load raw expression data\n",
    "## You will have to change the file name and paths\n",
    "data_dir = '/Users/mooneymi/Documents/MyDocuments/SystemsImmunogenetics/Expression/Bat_Virus_Array/data'\n",
    "raw_exprs_file = 'bat_virus_raw_exprs_2-FEB-2016.rda'\n",
    "## This will load the raw.exprs object \n",
    "load(file.path(data_dir, raw_exprs_file))"
   ]
  },
  {
   "cell_type": "markdown",
   "metadata": {},
   "source": [
    "# Step 3: Perform DE Analysis"
   ]
  },
  {
   "cell_type": "markdown",
   "metadata": {},
   "source": [
    "## Step 3a: Select Samples and Normalize Expression Data"
   ]
  },
  {
   "cell_type": "code",
   "execution_count": 7,
   "metadata": {
    "collapsed": true
   },
   "outputs": [],
   "source": [
    "## In this case we are selecting samples based on extreme values of the day 4 weight percentage\n",
    "## We will create a 'Category' variable to indicate the two sample groups to compare\n",
    "pData(raw.exprs)$Category = NA\n",
    "pData(raw.exprs)[which(pData(raw.exprs)[,'D4_percent'] < 0.85),'Category'] <- 'Sensitive'\n",
    "pData(raw.exprs)[which(pData(raw.exprs)[,'D4_percent'] > 0.98),'Category'] <- 'Resistant'\n",
    "## Subset the ExpressionSet\n",
    "raw.exprs.filter <- raw.exprs[, !is.na(raw.exprs$Category)]"
   ]
  },
  {
   "cell_type": "code",
   "execution_count": 8,
   "metadata": {
    "collapsed": false
   },
   "outputs": [
    {
     "data": {
      "text/html": [
       "<dl class=dl-horizontal>\n",
       "\t<dt>Features</dt>\n",
       "\t\t<dd>1416100</dd>\n",
       "\t<dt>Samples</dt>\n",
       "\t\t<dd>96</dd>\n",
       "</dl>\n"
      ],
      "text/latex": [
       "\\begin{description*}\n",
       "\\item[Features] 1416100\n",
       "\\item[Samples] 96\n",
       "\\end{description*}\n"
      ],
      "text/markdown": [
       "Features\n",
       ":   1416100Samples\n",
       ":   96\n",
       "\n"
      ],
      "text/plain": [
       "Features  Samples \n",
       " 1416100       96 "
      ]
     },
     "execution_count": 8,
     "metadata": {},
     "output_type": "execute_result"
    }
   ],
   "source": [
    "dim(raw.exprs)"
   ]
  },
  {
   "cell_type": "code",
   "execution_count": 9,
   "metadata": {
    "collapsed": false
   },
   "outputs": [
    {
     "data": {
      "text/html": [
       "<dl class=dl-horizontal>\n",
       "\t<dt>Features</dt>\n",
       "\t\t<dd>1416100</dd>\n",
       "\t<dt>Samples</dt>\n",
       "\t\t<dd>40</dd>\n",
       "</dl>\n"
      ],
      "text/latex": [
       "\\begin{description*}\n",
       "\\item[Features] 1416100\n",
       "\\item[Samples] 40\n",
       "\\end{description*}\n"
      ],
      "text/markdown": [
       "Features\n",
       ":   1416100Samples\n",
       ":   40\n",
       "\n"
      ],
      "text/plain": [
       "Features  Samples \n",
       " 1416100       40 "
      ]
     },
     "execution_count": 9,
     "metadata": {},
     "output_type": "execute_result"
    }
   ],
   "source": [
    "dim(raw.exprs.filter)"
   ]
  },
  {
   "cell_type": "code",
   "execution_count": 16,
   "metadata": {
    "collapsed": false
   },
   "outputs": [
    {
     "name": "stdout",
     "output_type": "stream",
     "text": [
      "Background correcting\n",
      "Normalizing\n",
      "Calculating Expression\n"
     ]
    }
   ],
   "source": [
    "## Normalize the data\n",
    "norm.exprs.filter = rma(raw.exprs.filter, normalize=TRUE, target=\"core\")"
   ]
  },
  {
   "cell_type": "code",
   "execution_count": 12,
   "metadata": {
    "collapsed": false
   },
   "outputs": [
    {
     "name": "stdout",
     "output_type": "stream",
     "text": [
      "Saving normalized expression to file: \n",
      "/Users/mooneymi/Documents/MyDocuments/SystemsImmunogenetics/Expression/Bat_Virus_Array/data/normalized_expression.csv\n"
     ]
    }
   ],
   "source": [
    "# Save normalized expression as .csv file (optional)\n",
    "output_normalized_expression(norm.exprs=norm.exprs.filter, save.dir=data_dir)"
   ]
  },
  {
   "cell_type": "markdown",
   "metadata": {},
   "source": [
    "## Step 3b: Filter the Features"
   ]
  },
  {
   "cell_type": "code",
   "execution_count": 17,
   "metadata": {
    "collapsed": false
   },
   "outputs": [
    {
     "name": "stdout",
     "output_type": "stream",
     "text": [
      "Saving probe mapping to file: \n",
      "/Users/mooneymi/Documents/MyDocuments/SystemsImmunogenetics/Expression/Bat_Virus_Array/de_analysis/probe_mapping.txt\n"
     ]
    }
   ],
   "source": [
    "## This function removes transcript cluster IDs that do not map to an Entrez gene\n",
    "## Also, if multiple transcript cluster IDs map to a gene, the one with the highest IQR is kept\n",
    "norm.exprs.filter = filter_features(norm.exprs=norm.exprs.filter, save.dir=getwd())"
   ]
  },
  {
   "cell_type": "code",
   "execution_count": 18,
   "metadata": {
    "collapsed": false
   },
   "outputs": [
    {
     "data": {
      "text/html": [
       "<dl class=dl-horizontal>\n",
       "\t<dt>Features</dt>\n",
       "\t\t<dd>24555</dd>\n",
       "\t<dt>Samples</dt>\n",
       "\t\t<dd>40</dd>\n",
       "</dl>\n"
      ],
      "text/latex": [
       "\\begin{description*}\n",
       "\\item[Features] 24555\n",
       "\\item[Samples] 40\n",
       "\\end{description*}\n"
      ],
      "text/markdown": [
       "Features\n",
       ":   24555Samples\n",
       ":   40\n",
       "\n"
      ],
      "text/plain": [
       "Features  Samples \n",
       "   24555       40 "
      ]
     },
     "execution_count": 18,
     "metadata": {},
     "output_type": "execute_result"
    }
   ],
   "source": [
    "dim(norm.exprs.filter)"
   ]
  },
  {
   "cell_type": "markdown",
   "metadata": {},
   "source": [
    "## Step 3c: Perform DE Analysis and Save Results"
   ]
  },
  {
   "cell_type": "code",
   "execution_count": null,
   "metadata": {
    "collapsed": false
   },
   "outputs": [],
   "source": [
    "# Compute DE analysis and save table of results\n",
    "de_table = de_analysis_table(norm.exprs=norm.exprs.filter, category='Category', probe_mapping_file='probe_mapping.txt')"
   ]
  },
  {
   "cell_type": "code",
   "execution_count": null,
   "metadata": {
    "collapsed": true
   },
   "outputs": [],
   "source": [
    "head(de_table)"
   ]
  },
  {
   "cell_type": "markdown",
   "metadata": {},
   "source": [
    "# Step 4: Perform Pathway Analysis"
   ]
  },
  {
   "cell_type": "code",
   "execution_count": null,
   "metadata": {
    "collapsed": false
   },
   "outputs": [],
   "source": [
    "# GO stats enrichment analysis of DE genes\n",
    "path_results = pathway_analysis(norm.exprs=norm.exprs.filter, de_table=de_table, pvalue_cutoff=0.05)"
   ]
  },
  {
   "cell_type": "code",
   "execution_count": null,
   "metadata": {
    "collapsed": true
   },
   "outputs": [],
   "source": [
    "head(path_results)"
   ]
  },
  {
   "cell_type": "markdown",
   "metadata": {},
   "source": [
    "## Step 4a: Pathway Visualization"
   ]
  },
  {
   "cell_type": "code",
   "execution_count": null,
   "metadata": {
    "collapsed": false
   },
   "outputs": [],
   "source": [
    "# Set parameter equal to either Odds Ratio (OddsRatio) or Gene Ratio (generatio)\n",
    "pathway_plots(path_results=path_results, N=10, parameter='OddsRatio', pvalue='adjusted')"
   ]
  },
  {
   "cell_type": "markdown",
   "metadata": {
    "collapsed": true
   },
   "source": [
    "#### Last Updated: 10-Feb-2016"
   ]
  }
 ],
 "metadata": {
  "kernelspec": {
   "display_name": "R",
   "language": "R",
   "name": "ir"
  },
  "language_info": {
   "codemirror_mode": "r",
   "file_extension": ".r",
   "mimetype": "text/x-r-source",
   "name": "R",
   "pygments_lexer": "r",
   "version": "3.2.2"
  }
 },
 "nbformat": 4,
 "nbformat_minor": 0
}
