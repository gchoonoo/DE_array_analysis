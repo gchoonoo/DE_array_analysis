{
 "cells": [
  {
   "cell_type": "markdown",
   "metadata": {},
   "source": [
    "# Systems Immunogenetics Project\n",
    "\n",
    "## Expression Array DE and Pathway Analysis Workflow\n",
    "\n",
    "### McWeeney Lab, Oregon Health & Science University\n",
    "\n",
    "** Authors: Gabrielle Choonoo (choonoo@ohsu.edu) and Michael Mooney (mooneymi@ohsu.edu) **\n",
    "\n",
    "## Introduction\n",
    "\n",
    "This is the step-by-step workflow for the DE and pathway analysis of pre-processed expression from the Bat Array data, including plots for DE genes and GO pathways.\n",
    "\n",
    "Required Files:\n",
    "\n",
    "* Bioconductor packages: \n",
    "+ gdata, plyr,oligo,pd.mogene.2.1.st,Heatplus,reshape2,ReportingTools,hwriter,ggplot2,limma,clusterProfiler,XML, mogene21sttranscriptcluster.db,GOstats,genefilter\n",
    "* Pre-processing notebook (SIG_Array_QA_QC_Workflow.ipynb): [Download here](https://raw.githubusercontent.com/mooneymi/systems_immunogenetics/master/SIG_Array_QA_QC_Workflow.ipynb)\n",
    "* This notebook (DE analysis.ipynb): [Download here](https://raw.githubusercontent.com/gchoonoo/DE_analysis/master/DE%20analysis.ipynb)\n",
    "* The R script (DE_pathway_functions.R): [Download here](https://raw.githubusercontent.com/gchoonoo/DE_analysis/master/DE_pathway_functions.R)\n",
    "\n",
    "**Note: this notebook can also be downloaded as an R script (only the code blocks seen below will be included): [Download R script here](https://raw.githubusercontent.com/gchoonoo/DE_analysis/master/DE_pathway_analysis.R)\n",
    "\n",
    "** All code is available on https://github.com/gchoonoo/DE_analysis **\n",
    "\n"
   ]
  },
  {
   "cell_type": "markdown",
   "metadata": {
    "collapsed": true
   },
   "source": [
    "# Step 1. Load Necessary R Functions and Libraries"
   ]
  },
  {
   "cell_type": "code",
   "execution_count": 25,
   "metadata": {
    "collapsed": false
   },
   "outputs": [
    {
     "data": {
      "text/html": [
       "<ol class=list-inline>\n",
       "\t<li>'/Users/choonoo/miniconda2/lib/R/library'</li>\n",
       "\t<li>'/Users/choonoo/miniconda2/envs/my-r-env/lib/R/library'</li>\n",
       "</ol>\n"
      ],
      "text/latex": [
       "\\begin{enumerate*}\n",
       "\\item '/Users/choonoo/miniconda2/lib/R/library'\n",
       "\\item '/Users/choonoo/miniconda2/envs/my-r-env/lib/R/library'\n",
       "\\end{enumerate*}\n"
      ],
      "text/markdown": [
       "1. '/Users/choonoo/miniconda2/lib/R/library'\n",
       "2. '/Users/choonoo/miniconda2/envs/my-r-env/lib/R/library'\n",
       "\n",
       "\n"
      ],
      "text/plain": [
       "[1] \"/Users/choonoo/miniconda2/lib/R/library\"              \n",
       "[2] \"/Users/choonoo/miniconda2/envs/my-r-env/lib/R/library\""
      ]
     },
     "execution_count": 25,
     "metadata": {},
     "output_type": "execute_result"
    }
   ],
   "source": [
    ".libPaths(c('/Users/choonoo/miniconda2/lib/R/library', .libPaths()))\n",
    ".libPaths()"
   ]
  },
  {
   "cell_type": "code",
   "execution_count": 46,
   "metadata": {
    "collapsed": false,
    "scrolled": true
   },
   "outputs": [
    {
     "name": "stderr",
     "output_type": "stream",
     "text": [
      "Loading required package: ReportingTools\n",
      "Warning message:\n",
      "In library(package, lib.loc = lib.loc, character.only = TRUE, logical.return = TRUE, : there is no package called ‘ReportingTools’Loading required package: clusterProfiler\n",
      "Warning message:\n",
      "In library(package, lib.loc = lib.loc, character.only = TRUE, logical.return = TRUE, : there is no package called ‘clusterProfiler’Loading required package: XML\n",
      "Warning message:\n",
      "In library(package, lib.loc = lib.loc, character.only = TRUE, logical.return = TRUE, : there is no package called ‘XML’Loading required package: GOstats\n",
      "Warning message:\n",
      "In library(package, lib.loc = lib.loc, character.only = TRUE, logical.return = TRUE, : there is no package called ‘GOstats’Loading required package: genefilter\n",
      "Warning message:\n",
      "In library(package, lib.loc = lib.loc, character.only = TRUE, logical.return = TRUE, : there is no package called ‘genefilter’"
     ]
    }
   ],
   "source": [
    "## Load libraries and functions for DE and pathway analysis\n",
    "\n",
    "#source(\"http://bioconductor.org/biocLite.R\")\n",
    "\n",
    "source('DE_pathway_functions.R')"
   ]
  },
  {
   "cell_type": "markdown",
   "metadata": {
    "collapsed": false
   },
   "source": [
    "# Step 2: Read in raw expression data"
   ]
  },
  {
   "cell_type": "code",
   "execution_count": 15,
   "metadata": {
    "collapsed": false
   },
   "outputs": [],
   "source": [
    "# save file where raw expression is saved\n",
    "file = \"~/de_test_v2.RData\"\n",
    "\n",
    "load(file)"
   ]
  },
  {
   "cell_type": "markdown",
   "metadata": {},
   "source": [
    "# Step 3: DE Analysis"
   ]
  },
  {
   "cell_type": "markdown",
   "metadata": {},
   "source": [
    "## Step 3A: Compute normalized expression"
   ]
  },
  {
   "cell_type": "code",
   "execution_count": 16,
   "metadata": {
    "collapsed": false
   },
   "outputs": [
    {
     "name": "stdout",
     "output_type": "stream",
     "text": [
      "Background correcting\n",
      "Normalizing\n",
      "Calculating Expression\n",
      "[1] \"Saving normalized expression to file...\"\n"
     ]
    }
   ],
   "source": [
    "# Compute normalization of expression and save to file\n",
    "norm.exprs = normalize_expression(raw.exprs=raw.exprs)"
   ]
  },
  {
   "cell_type": "markdown",
   "metadata": {},
   "source": [
    "## Step 3B: Feature Filter"
   ]
  },
  {
   "cell_type": "code",
   "execution_count": 45,
   "metadata": {
    "collapsed": false
   },
   "outputs": [
    {
     "name": "stderr",
     "output_type": "stream",
     "text": [
      "'select()' returned 1:many mapping between keys and columns\n"
     ]
    },
    {
     "ename": "ERROR",
     "evalue": "Error in findLargest(featureNames(sub.eset), rowIQRs(sub.eset), \"mogene21sttranscriptcluster.db\"): could not find function \".isOrgSchema\"\n",
     "output_type": "error",
     "traceback": [
      "Error in findLargest(featureNames(sub.eset), rowIQRs(sub.eset), \"mogene21sttranscriptcluster.db\"): could not find function \".isOrgSchema\"\n"
     ]
    }
   ],
   "source": [
    "norm.exprs.filter = filter_features(norm.exprs=norm.exprs)"
   ]
  },
  {
   "cell_type": "markdown",
   "metadata": {},
   "source": [
    "## Step 3C: Sample Filter"
   ]
  },
  {
   "cell_type": "code",
   "execution_count": 42,
   "metadata": {
    "collapsed": false
   },
   "outputs": [],
   "source": [
    "norm.exprs.filter.category = sample_filter(norm.exprs.filter=norm.exprs.filter)"
   ]
  },
  {
   "cell_type": "markdown",
   "metadata": {},
   "source": [
    "## Step 3D: DE Analysis and save results"
   ]
  },
  {
   "cell_type": "code",
   "execution_count": 43,
   "metadata": {
    "collapsed": false
   },
   "outputs": [
    {
     "name": "stderr",
     "output_type": "stream",
     "text": [
      "'select()' returned 1:many mapping between keys and columns\n"
     ]
    },
    {
     "ename": "ERROR",
     "evalue": "Error: anyDuplicated(annot.temp$SYMBOL) == 0 is not TRUE\n",
     "output_type": "error",
     "traceback": [
      "Error: anyDuplicated(annot.temp$SYMBOL) == 0 is not TRUE\n"
     ]
    },
    {
     "data": {
      "text/html": [
       "<table>\n",
       "<thead><tr><th></th><th scope=col>ProbeId</th><th scope=col>Symbol</th><th scope=col>Resistant.Sensitive.logFC</th><th scope=col>Resistant.Sensitive.Signif</th><th scope=col>p.value</th></tr></thead>\n",
       "<tbody>\n",
       "\t<tr><th scope=row>17362028</th><td>17362028</td><td>Gm14964</td><td>1.235306</td><td>1</td><td>1.051038e-08</td></tr>\n",
       "\t<tr><th scope=row>17524590</th><td>17524590</td><td>Zglp1</td><td>-0.04195866</td><td>0</td><td>0.5282334</td></tr>\n",
       "\t<tr><th scope=row>17493037</th><td>17493037</td><td>Vmn2r65</td><td>0.09694176</td><td>0</td><td>0.1235148</td></tr>\n",
       "\t<tr><th scope=row>17234709</th><td>17234709</td><td>Gm10024</td><td>-0.01864596</td><td>0</td><td>0.7850663</td></tr>\n",
       "\t<tr><th scope=row>17248721</th><td>17248721</td><td>F630206G17Rik</td><td>-0.01459861</td><td>0</td><td>0.8145857</td></tr>\n",
       "\t<tr><th scope=row>17432514</th><td>17432514</td><td>Oog3</td><td>-0.0713851</td><td>0</td><td>0.6132962</td></tr>\n",
       "</tbody>\n",
       "</table>\n"
      ],
      "text/latex": [
       "\\begin{tabular}{r|lllll}\n",
       "  & ProbeId & Symbol & Resistant.Sensitive.logFC & Resistant.Sensitive.Signif & p.value\\\\\n",
       "\\hline\n",
       "\t17362028 & 17362028 & Gm14964 & 1.235306 & 1 & 1.051038e-08\\\\\n",
       "\t17524590 & 17524590 & Zglp1 & -0.04195866 & 0 & 0.5282334\\\\\n",
       "\t17493037 & 17493037 & Vmn2r65 & 0.09694176 & 0 & 0.1235148\\\\\n",
       "\t17234709 & 17234709 & Gm10024 & -0.01864596 & 0 & 0.7850663\\\\\n",
       "\t17248721 & 17248721 & F630206G17Rik & -0.01459861 & 0 & 0.8145857\\\\\n",
       "\t17432514 & 17432514 & Oog3 & -0.0713851 & 0 & 0.6132962\\\\\n",
       "\\end{tabular}\n"
      ],
      "text/plain": [
       "          ProbeId        Symbol Resistant.Sensitive.logFC\n",
       "17362028 17362028       Gm14964                1.23530608\n",
       "17524590 17524590         Zglp1               -0.04195866\n",
       "17493037 17493037       Vmn2r65                0.09694176\n",
       "17234709 17234709       Gm10024               -0.01864596\n",
       "17248721 17248721 F630206G17Rik               -0.01459861\n",
       "17432514 17432514          Oog3               -0.07138510\n",
       "         Resistant.Sensitive.Signif      p.value\n",
       "17362028                          1 1.051038e-08\n",
       "17524590                          0 5.282334e-01\n",
       "17493037                          0 1.235148e-01\n",
       "17234709                          0 7.850663e-01\n",
       "17248721                          0 8.145857e-01\n",
       "17432514                          0 6.132962e-01"
      ]
     },
     "execution_count": 43,
     "metadata": {},
     "output_type": "execute_result"
    }
   ],
   "source": [
    "# Compute DE analysis and save table of results\n",
    "de_table = de_analysis_table(norm.exprs.filter.category=norm.exprs.filter.category, category='Category')\n",
    "\n",
    "head(de_table)"
   ]
  },
  {
   "cell_type": "markdown",
   "metadata": {},
   "source": [
    "# Step 4: Pathway Analysis"
   ]
  },
  {
   "cell_type": "code",
   "execution_count": 38,
   "metadata": {
    "collapsed": false
   },
   "outputs": [
    {
     "name": "stderr",
     "output_type": "stream",
     "text": [
      "'select()' returned 1:many mapping between keys and columns\n"
     ]
    },
    {
     "ename": "ERROR",
     "evalue": "Error in getClass(Class, where = topenv(parent.frame())): “GOHyperGParams” is not a defined class\n",
     "output_type": "error",
     "traceback": [
      "Error in getClass(Class, where = topenv(parent.frame())): “GOHyperGParams” is not a defined class\n"
     ]
    },
    {
     "data": {
      "text/html": [
       "<table>\n",
       "<thead><tr><th></th><th scope=col>GOBPID</th><th scope=col>Pvalue</th><th scope=col>OddsRatio</th><th scope=col>ExpCount</th><th scope=col>Count</th><th scope=col>Size</th><th scope=col>Term</th></tr></thead>\n",
       "<tbody>\n",
       "\t<tr><th scope=row>1</th><td>GO:0008152</td><td>4.291801e-95</td><td>1.819908</td><td>3533.805</td><td>4249</td><td>9373</td><td>metabolic process</td></tr>\n",
       "\t<tr><th scope=row>2</th><td>GO:0044237</td><td>9.608379e-95</td><td>1.834199</td><td>3023.698</td><td>3725</td><td>8020</td><td>cellular metabolic process</td></tr>\n",
       "\t<tr><th scope=row>3</th><td>GO:0044238</td><td>1.378796e-84</td><td>1.767449</td><td>3130.771</td><td>3796</td><td>8304</td><td>primary metabolic process</td></tr>\n",
       "\t<tr><th scope=row>4</th><td>GO:0071704</td><td>3.396728e-84</td><td>1.760046</td><td>3272.531</td><td>3940</td><td>8680</td><td>organic substance metabolic process</td></tr>\n",
       "\t<tr><th scope=row>5</th><td>GO:0071840</td><td>5.613201e-57</td><td>1.738299</td><td>1618.922</td><td>2072</td><td>4294</td><td>cellular component organization or biogenesis</td></tr>\n",
       "\t<tr><th scope=row>6</th><td>GO:0044260</td><td>4.15651e-55</td><td>1.633057</td><td>2234.596</td><td>2729</td><td>5927</td><td>cellular macromolecule metabolic process</td></tr>\n",
       "</tbody>\n",
       "</table>\n"
      ],
      "text/latex": [
       "\\begin{tabular}{r|lllllll}\n",
       "  & GOBPID & Pvalue & OddsRatio & ExpCount & Count & Size & Term\\\\\n",
       "\\hline\n",
       "\t1 & GO:0008152 & 4.291801e-95 & 1.819908 & 3533.805 & 4249 & 9373 & metabolic process\\\\\n",
       "\t2 & GO:0044237 & 9.608379e-95 & 1.834199 & 3023.698 & 3725 & 8020 & cellular metabolic process\\\\\n",
       "\t3 & GO:0044238 & 1.378796e-84 & 1.767449 & 3130.771 & 3796 & 8304 & primary metabolic process\\\\\n",
       "\t4 & GO:0071704 & 3.396728e-84 & 1.760046 & 3272.531 & 3940 & 8680 & organic substance metabolic process\\\\\n",
       "\t5 & GO:0071840 & 5.613201e-57 & 1.738299 & 1618.922 & 2072 & 4294 & cellular component organization or biogenesis\\\\\n",
       "\t6 & GO:0044260 & 4.15651e-55 & 1.633057 & 2234.596 & 2729 & 5927 & cellular macromolecule metabolic process\\\\\n",
       "\\end{tabular}\n"
      ],
      "text/plain": [
       "      GOBPID       Pvalue OddsRatio ExpCount Count Size\n",
       "1 GO:0008152 4.291801e-95  1.819908 3533.805  4249 9373\n",
       "2 GO:0044237 9.608379e-95  1.834199 3023.698  3725 8020\n",
       "3 GO:0044238 1.378796e-84  1.767449 3130.771  3796 8304\n",
       "4 GO:0071704 3.396728e-84  1.760046 3272.531  3940 8680\n",
       "5 GO:0071840 5.613201e-57  1.738299 1618.922  2072 4294\n",
       "6 GO:0044260 4.156510e-55  1.633057 2234.596  2729 5927\n",
       "                                           Term\n",
       "1                             metabolic process\n",
       "2                    cellular metabolic process\n",
       "3                     primary metabolic process\n",
       "4           organic substance metabolic process\n",
       "5 cellular component organization or biogenesis\n",
       "6      cellular macromolecule metabolic process"
      ]
     },
     "execution_count": 38,
     "metadata": {},
     "output_type": "execute_result"
    }
   ],
   "source": [
    "# GO stats enrichment analysis of DE genes\n",
    "path_results = pathway_analysis(norm.exprs.filter.category=norm.exprs.filter.category, de_table=de_table, pvalue_cutoff=0.05)\n",
    "\n",
    "head(path_results)"
   ]
  },
  {
   "cell_type": "markdown",
   "metadata": {},
   "source": [
    "## Step 4A: Pathway Visualization"
   ]
  },
  {
   "cell_type": "code",
   "execution_count": 47,
   "metadata": {
    "collapsed": false
   },
   "outputs": [
    {
     "ename": "ERROR",
     "evalue": "Error in `[.data.frame`(res_table_v3, , parameter): object 'parameter' not found\n",
     "output_type": "error",
     "traceback": [
      "Error in `[.data.frame`(res_table_v3, , parameter): object 'parameter' not found\n"
     ]
    }
   ],
   "source": [
    "pathway_plots(path_results=path_results,parameter=c(\"OddsRatio\"),pvalue=c('raw'))"
   ]
  },
  {
   "cell_type": "code",
   "execution_count": null,
   "metadata": {
    "collapsed": true
   },
   "outputs": [],
   "source": []
  }
 ],
 "metadata": {
  "kernelspec": {
   "display_name": "R",
   "language": "R",
   "name": "ir"
  },
  "language_info": {
   "codemirror_mode": "r",
   "file_extension": ".r",
   "mimetype": "text/x-r-source",
   "name": "R",
   "pygments_lexer": "r",
   "version": "3.2.2"
  }
 },
 "nbformat": 4,
 "nbformat_minor": 0
}
